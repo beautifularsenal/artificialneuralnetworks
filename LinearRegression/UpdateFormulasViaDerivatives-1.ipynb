{
 "cells": [
  {
   "cell_type": "markdown",
   "metadata": {
    "collapsed": true
   },
   "source": [
    "### Assignment: Write Update Formulas using Derivatives\n",
    "#### Refer to the definitions and relations given on slides 23, 26, 28, 29 and 31 of the slide deck Linear Regression - An Introduction.PDF. \n",
    "\n",
    "In this assignment, you will implement update formulas in form of Python functions. The functions will determine changes in W and b using update formulas and will return the change in W and change in b as a Python tuple. There are two parts of the assignment:\n",
    "\n",
    "Part 1: Use the loops to implement your function as per definitions given in slide 31. \n",
    "Part 2: Use matrix relationship to implement your function as per relations given in slide 28.\n",
    "\n",
    "The code calls your function using the data defined in this note book. \n",
    "\n",
    "The skeleton and most of the code is already provided for you below for this assignment. All that you need to do is to save this file and write code ONLY in the spaces that are surrounded by:\n",
    "\n",
    "#-- START CODE HERE --# (≈ 3-5 lines of code)\n",
    "\n",
    "#-- END CODE HERE --#\n",
    "\n",
    "Do NOT change any other part of this file. You should get identical results as provided in this note book. Make sure there is NO extraneous code. Your file must run out of the box without me doing any tweaks. If your submission does not comply with these requirements, your grades will be impacted. \n",
    "\n"
   ]
  },
  {
   "cell_type": "code",
   "execution_count": 1,
   "metadata": {},
   "outputs": [],
   "source": [
    "# Import NumPy\n",
    "import numpy as np"
   ]
  },
  {
   "cell_type": "code",
   "execution_count": 2,
   "metadata": {},
   "outputs": [],
   "source": [
    "import array"
   ]
  },
  {
   "cell_type": "markdown",
   "metadata": {},
   "source": [
    "#### Define example/experience data (X and Y) and initialize model parameters (W, b, and alpha):\n",
    "X is a 4 x 3 input matrix (there are 4 inputs and 3 training examples) \n",
    "\n",
    "Y is an output row vector (there are 3 ouputs each corresponding to the one training example)\n",
    "\n",
    "W is the weight row vector with as many weights as there are inputs. These weights will be set up randomly with a predefined seed. \n",
    "\n",
    "b is the bias term \n",
    "\n",
    "alpha is the learning rate"
   ]
  },
  {
   "cell_type": "code",
   "execution_count": 3,
   "metadata": {},
   "outputs": [],
   "source": [
    "X = np.array([[1,2,0.5],[2,1,2],[1,2,1],[1,1,2]])\n",
    "Y = np.array([[1, 0, 1]])\n",
    "np.random.seed(100)\n",
    "W = np.random.rand(4).reshape(1,4)\n",
    "b = 1\n",
    "alpha = 0.01"
   ]
  },
  {
   "cell_type": "markdown",
   "metadata": {},
   "source": [
    "#### Let us print shapes of these matrices"
   ]
  },
  {
   "cell_type": "code",
   "execution_count": 4,
   "metadata": {},
   "outputs": [
    {
     "name": "stdout",
     "output_type": "stream",
     "text": [
      "Shape of X matrix (4, 3)\n",
      "Shape of Y matrix (1, 3)\n",
      "Shape of W matrix (1, 4)\n"
     ]
    }
   ],
   "source": [
    "print(\"Shape of X matrix\", X.shape)\n",
    "print(\"Shape of Y matrix\", Y.shape)\n",
    "print(\"Shape of W matrix\", W.shape)"
   ]
  },
  {
   "cell_type": "markdown",
   "metadata": {},
   "source": [
    "### Assignment - Part 1: Write Update Formulas using Derivatives with Loops\n",
    "\n",
    "In this assignment, you will implement update formulas in form of Python function using loops. The function looks like the following:\n",
    "\n",
    "def updateModelwithLoops(X, Y, W, b, alpha):\n",
    "    ....\n",
    "    return (wchange, bchange)\n",
    "\n",
    "Here X, Y, W and b are as per definition in the slide 23."
   ]
  },
  {
   "cell_type": "code",
   "execution_count": 20,
   "metadata": {},
   "outputs": [],
   "source": [
    "def updateModelwithLoops(X, Y, W, b, alpha):\n",
    "# Extract n (number of features) and m (number of training examples) from X\n",
    "    n = X.shape[0]\n",
    "    m = X.shape[1]\n",
    "# Define a vector dJdW to store derivatives of the weights in the weight vector W\n",
    "    dJdb = 0\n",
    "    dJdW = np.zeros(n).reshape(1, n) \n",
    "\n",
    "# Define a vector C to store intermediate Ci's and \n",
    "    C = np.zeros(m).reshape(1, m)\n",
    "\n",
    "# Implement the loops to determine Ci's (Slide 31):\n",
    "#-- START CODE HERE --# (≈ 3-5 lines of code)\n",
    "    for i in range(m):\n",
    "        q = sum(W[0][j] * X[j][i] for j in range(n))\n",
    "        C[0][i] = -2 * (Y[0][i] - (q + b))\n",
    "#-- END CODE HERE --#\n",
    "\n",
    "# Implement the loop to determine dJdb, the derivative of J with respect to b (Slide 31):\n",
    "#-- START CODE HERE --# (≈ 1-3 lines of code)\n",
    "    dJdb = sum(C[0][i] for i in range(m))\n",
    "#-- END CODE HERE --#\n",
    "\n",
    "# Implement the loop to determine dJdw's, the derivatives of J with respect to w's' (Slide 31):\n",
    "#-- START CODE HERE --# (≈ 2-5 lines of code)\n",
    "    for j in range(n):\n",
    "        dJdW[0][j] = sum(X[j][i] * C[0][i] for i in range(m))\n",
    "#-- END CODE HERE --#\n",
    "            \n",
    "# Write update formula for change in b using derivative determined above (slide 29)\n",
    "    bchange = - alpha * dJdb\n",
    "\n",
    "# Write update formula for changes in w's using derivatives determined above (slide 29)\n",
    "    wchange = np.zeros(n)\n",
    "    for k in range(n):\n",
    "        wchange[k] = - alpha * dJdW[0][k] \n",
    "\n",
    "# Return in a tuple\n",
    "    return (wchange, bchange)"
   ]
  },
  {
   "cell_type": "code",
   "execution_count": 21,
   "metadata": {},
   "outputs": [
    {
     "data": {
      "text/plain": [
       "(array([-0.23917348, -0.29365775, -0.26859859, -0.246269  ]),\n",
       " -0.18741878228027017)"
      ]
     },
     "execution_count": 21,
     "metadata": {},
     "output_type": "execute_result"
    }
   ],
   "source": [
    "# Call the function updateModelwithLoops with example data\n",
    "updateModelwithLoops(X, Y, W, b, alpha)"
   ]
  },
  {
   "cell_type": "markdown",
   "metadata": {},
   "source": [
    "##### You should get the following results:\n",
    "\n",
    "(array([-0.23917348, -0.29365775, -0.26859859, -0.246269  ]),\n",
    " -0.18741878228027017)"
   ]
  },
  {
   "cell_type": "markdown",
   "metadata": {},
   "source": [
    "\n",
    "### Assignment - Part 2: Write Update Formulas using Derivatives with Linear Algebra\n",
    "\n",
    "In this assignment, you will implement update formulas in form of Python function using matrix relations. The function looks like the following:\n",
    "\n",
    "def updateModelwithMatrices(X, Y, W, b, alpha):\n",
    "    ....\n",
    "    return (wchange, bchange)\n",
    "\n",
    "Use relations provided in slide 28.  "
   ]
  },
  {
   "cell_type": "code",
   "execution_count": 7,
   "metadata": {},
   "outputs": [],
   "source": [
    "def updateModelwithMatrices(X, Y, W, b, alpha):\n",
    "\n",
    "#-- START CODE HERE --# (≈ 3-5 lines of code)\n",
    "    k = X.shape[0]\n",
    "    q = Y - (np.matmul(W, X) + b)   # Y - (WX + B)\n",
    "    dJdb = -2 * np.matmul(q, np.transpose(np.ones_like(q)))    \n",
    "    dJdW = np.zeros(k).reshape(1, k)\n",
    "    dJdW[0] = array.array('f', (-2 * np.matmul(q, np.transpose(X[i])) for i in range(k)))\n",
    "#-- END CODE HERE --#\n",
    "\n",
    "    bchange = - alpha * dJdb\n",
    "    wchange = - alpha * dJdW \n",
    "    return (wchange, bchange)"
   ]
  },
  {
   "cell_type": "code",
   "execution_count": 8,
   "metadata": {},
   "outputs": [
    {
     "data": {
      "text/plain": [
       "(array([[-0.23917349, -0.29365776, -0.26859859, -0.246269  ]]),\n",
       " array([[-0.18741878]]))"
      ]
     },
     "execution_count": 8,
     "metadata": {},
     "output_type": "execute_result"
    }
   ],
   "source": [
    "# Call the function updateweightsMatrices with example data\n",
    "updateModelwithMatrices(X, Y, W, b, alpha)"
   ]
  },
  {
   "cell_type": "markdown",
   "metadata": {
    "collapsed": true
   },
   "source": [
    "##### You should get the following results:\n",
    "\n",
    "(array([[-0.23917348, -0.29365775, -0.26859859, -0.246269  ]]),\n",
    " array([[-0.18741878]]))"
   ]
  },
  {
   "cell_type": "code",
   "execution_count": null,
   "metadata": {},
   "outputs": [],
   "source": []
  }
 ],
 "metadata": {
  "kernelspec": {
   "display_name": "Python 3",
   "language": "python",
   "name": "python3"
  },
  "language_info": {
   "codemirror_mode": {
    "name": "ipython",
    "version": 3
   },
   "file_extension": ".py",
   "mimetype": "text/x-python",
   "name": "python",
   "nbconvert_exporter": "python",
   "pygments_lexer": "ipython3",
   "version": "3.5.5"
  }
 },
 "nbformat": 4,
 "nbformat_minor": 2
}
