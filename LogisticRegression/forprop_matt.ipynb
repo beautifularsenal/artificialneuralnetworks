{
 "cells": [
  {
   "cell_type": "code",
   "execution_count": 2,
   "metadata": {},
   "outputs": [],
   "source": [
    "import numpy as np"
   ]
  },
  {
   "cell_type": "code",
   "execution_count": 3,
   "metadata": {},
   "outputs": [
    {
     "name": "stdout",
     "output_type": "stream",
     "text": [
      "(80, 4)\n",
      "(80,)\n"
     ]
    }
   ],
   "source": [
    "data_train = np.loadtxt('iristrain-1.csv', delimiter=',', skiprows=1)\n",
    "X_Train = data_train[:,0:4]\n",
    "Y_Train = data_train[:, 4]\n",
    "\n",
    "# X_Train = np.transpose(X_Train)\n",
    "# Y_Train = np.transpose(Y_Train)\n",
    "\n",
    "print(X_Train.shape)\n",
    "print(Y_Train.shape)"
   ]
  },
  {
   "cell_type": "code",
   "execution_count": 23,
   "metadata": {},
   "outputs": [
    {
     "name": "stdout",
     "output_type": "stream",
     "text": [
      "W0: \n",
      " [[1. 1. 1. 1.]\n",
      " [1. 1. 1. 1.]\n",
      " [1. 1. 1. 1.]\n",
      " [1. 1. 1. 1.]]\n",
      "W1: \n",
      " [[0.5 0.5 0.5 0.5]\n",
      " [0.5 0.5 0.5 0.5]\n",
      " [0.5 0.5 0.5 0.5]]\n",
      "W2: \n",
      " [[0.5 0.5 0.5]]\n",
      "(80, 4)\n"
     ]
    }
   ],
   "source": [
    "# number of training examples\n",
    "m = 80\n",
    "\n",
    "# number of features\n",
    "n = 4\n",
    "\n",
    "# initialize parameters\n",
    "W0 = np.ones((n,n))\n",
    "B0 = 0\n",
    "W1 = np.ones((3,n))*0.5\n",
    "W2 = np.ones((1,n-1))*0.5\n",
    "B1 = 0.5\n",
    "B2 = B1\n",
    "\n",
    "print(\"W0: \\n\", W0)\n",
    "print(\"W1: \\n\", W1)\n",
    "print(\"W2: \\n\", W2)\n",
    "print(X_Train.shape)"
   ]
  },
  {
   "cell_type": "code",
   "execution_count": 36,
   "metadata": {},
   "outputs": [
    {
     "name": "stdout",
     "output_type": "stream",
     "text": [
      "Matrix Representation of Cost Function : -1/m*(np.matmul(Y,np.log(Y_hat))+np.matmul((1-Y),np.log(1-Y_hat)))\n",
      "Cost (Train):  1.126928011042972\n"
     ]
    }
   ],
   "source": [
    "def identity_act(yhat):\n",
    "    return yhat\n",
    "\n",
    "def tanh_act(yhat):\n",
    "    return (np.exp(yhat)-np.exp(-yhat))/(np.exp(yhat)+np.exp(-yhat))\n",
    "\n",
    "def sigmoid(yhat):\n",
    "    return 1/(1+np.exp(-yhat))\n",
    "\n",
    "\n",
    "def cost_func(W0,W1,W2,B0,B1,B2,X,Y):\n",
    "    #layer 1\n",
    "    H0 =  identity_act(np.matmul(W0,np.transpose(X))+B0)\n",
    "    X1 = H0\n",
    "    \n",
    "    #layer 2\n",
    "    H1 = tanh_act(np.matmul(W1,X1)+B1)\n",
    "    X2 = H1\n",
    "    \n",
    "    # layer 3\n",
    "    H2 = sigmoid(np.matmul(W2,X2)+B2)\n",
    "    Y_hat = np.transpose(H2)\n",
    "    \n",
    "    # Our matrix representation of the cost function\n",
    "    \n",
    "    print(\"Matrix Representation of Cost Function : -1/m*(np.matmul(Y,np.log(Y_hat))+np.matmul((1-Y),np.log(1-Y_hat)))\")\n",
    "    return -1/m*(np.matmul(Y,np.log(Y_hat))+np.matmul((1-Y),np.log(1-Y_hat)))\n",
    "\n",
    "print(\"Cost (Train): \", float(cost_func(W0,W1,W2,B0,B1,B2, X_Train, Y_Train)))"
   ]
  },
  {
   "cell_type": "code",
   "execution_count": 37,
   "metadata": {},
   "outputs": [
    {
     "name": "stdout",
     "output_type": "stream",
     "text": [
      "(20, 4)\n",
      "(20,)\n"
     ]
    }
   ],
   "source": [
    "data_test = np.loadtxt('iristest-1.csv', delimiter=',', skiprows=1)\n",
    "X_Test = data_test[:,0:4]\n",
    "Y_Test = data_test[:, 4]\n",
    "\n",
    "# X_Train = np.transpose(X_Train)\n",
    "# Y_Train = np.transpose(Y_Train)\n",
    "\n",
    "print(X_Test.shape)\n",
    "print(Y_Test.shape)"
   ]
  },
  {
   "cell_type": "code",
   "execution_count": 38,
   "metadata": {},
   "outputs": [],
   "source": [
    "# initialize parameters\n",
    "W0 = np.ones((n,n))\n",
    "B0 = 0\n",
    "W1 = np.ones((3,n))*0.5\n",
    "W2 = np.ones((1,n-1))*0.5\n",
    "B1 = 0.5\n",
    "B2 = B1"
   ]
  },
  {
   "cell_type": "code",
   "execution_count": 39,
   "metadata": {},
   "outputs": [
    {
     "name": "stdout",
     "output_type": "stream",
     "text": [
      "Matrix Representation of Cost Function : -1/m*(np.matmul(Y,np.log(Y_hat))+np.matmul((1-Y),np.log(1-Y_hat)))\n",
      "Cost (Test):  0.281732002760743\n"
     ]
    }
   ],
   "source": [
    "print(\"Cost (Test): \", float(cost_func(W0,W1,W2,B0,B1,B2, X_Test, Y_Test)))"
   ]
  },
  {
   "cell_type": "code",
   "execution_count": null,
   "metadata": {},
   "outputs": [],
   "source": []
  }
 ],
 "metadata": {
  "kernelspec": {
   "display_name": "Python 3",
   "language": "python",
   "name": "python3"
  },
  "language_info": {
   "codemirror_mode": {
    "name": "ipython",
    "version": 3
   },
   "file_extension": ".py",
   "mimetype": "text/x-python",
   "name": "python",
   "nbconvert_exporter": "python",
   "pygments_lexer": "ipython3",
   "version": "3.6.5"
  }
 },
 "nbformat": 4,
 "nbformat_minor": 2
}
