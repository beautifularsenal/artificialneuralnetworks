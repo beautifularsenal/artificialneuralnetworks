{
 "cells": [
  {
   "cell_type": "code",
   "execution_count": 30,
   "metadata": {},
   "outputs": [],
   "source": [
    "import numpy as np\n",
    "\n",
    "def activation(yhat):\n",
    "    return 1 / (1 + np.exp(-yhat))\n",
    "\n",
    "def loss(y, yhat):\n",
    "    return -((1 - y) * np.log(1-yhat) + y * np.log(yhat))\n",
    "\n",
    "def z(W, X, b):\n",
    "    return (np.matmul(W, X) + b)\n",
    "\n",
    "def sigmoid(W, X, b, threshold = 0.5):\n",
    "    return 1 if (z(W, X, b) >= threshold) else 0"
   ]
  },
  {
   "cell_type": "code",
   "execution_count": 33,
   "metadata": {},
   "outputs": [],
   "source": [
    "experienceData = np.loadtxt('iristrain-1.csv', delimiter = ',', skiprows = 1)\n",
    "X_train = experienceData[:, 0:4]\n",
    "Y_train = experienceData[:, 4]\n",
    "\n",
    "# training examples\n",
    "m = X_train.shape[0]\n",
    "\n",
    "# number of features\n",
    "n = X_train.shape[1]"
   ]
  },
  {
   "cell_type": "code",
   "execution_count": 34,
   "metadata": {},
   "outputs": [],
   "source": [
    "#Iterations\n",
    "h = 100000\n",
    "alpha = 0.05\n",
    "\n",
    "# # Model Parameters\n",
    "# b = 1\n",
    "# W = np.zeros(n).reshape(1, n)\n",
    " \n",
    "# # Initialization of J and Yhat\n",
    "# J = np.zeros(h).reshape(1, h)\n",
    "# Yhat = np.zeros(m).reshape(1, m)"
   ]
  },
  {
   "cell_type": "code",
   "execution_count": 35,
   "metadata": {},
   "outputs": [],
   "source": [
    "def logisticRegression(h, alpha, X, Y):\n",
    "    # training examples\n",
    "    m = X.shape[0]\n",
    "    \n",
    "    # number of features\n",
    "    n = X.shape[1]\n",
    "    \n",
    "    # Model Parameters\n",
    "    b = 1\n",
    "    W = np.zeros(n).reshape(1, n)\n",
    "    \n",
    "    # Initialization of J and Yhat\n",
    "    J = np.zeros(h).reshape(1, h)\n",
    "    Yhat = np.zeros(m).reshape(1, m)\n",
    "    \n",
    "    for g in range(h):\n",
    "        Yhat = activation(np.matmul(W, np.transpose(X) + b))\n",
    "        J[0, g] = -1 / m * np.sum(Y * np.log(Yhat) + (1 - Y) * np.log(1 - Yhat))\n",
    "        dJdz = Yhat - Y\n",
    "        dJdb = np.sum(dJdz) / m\n",
    "        dJdw = 1 / m * np.matmul(dJdz, X)\n",
    "        b -= alpha * dJdb\n",
    "        W -= alpha * dJdw\n",
    "    \n",
    "    return (b, W, J)"
   ]
  },
  {
   "cell_type": "code",
   "execution_count": 36,
   "metadata": {},
   "outputs": [
    {
     "name": "stdout",
     "output_type": "stream",
     "text": [
      "Jcost = 0.00023645227980541233\n",
      "b = 0.2331343307740746\n",
      "W =  [[-1.27077048 -3.96452605  5.9404163   2.77349473]]\n"
     ]
    }
   ],
   "source": [
    "(b, W, J) = logisticRegression(h, alpha, X_train, Y_train)\n",
    "print(\"Jcost = {}\".format(J[0,h-1]))\n",
    "print(\"b = {}\".format(b))\n",
    "print(\"W = \", W)"
   ]
  },
  {
   "cell_type": "code",
   "execution_count": 37,
   "metadata": {},
   "outputs": [],
   "source": [
    "testData = np.loadtxt('iristest-1.csv', delimiter = ',', skiprows = 1)\n",
    "X_test = testData[:, 0:4]\n",
    "Y_test = testData[:, 4]"
   ]
  },
  {
   "cell_type": "code",
   "execution_count": 38,
   "metadata": {},
   "outputs": [],
   "source": [
    "Y_predicted = [ sigmoid(W[0], X_test[i], b, 0.5) for i in range(X_test.shape[0]) ]"
   ]
  },
  {
   "cell_type": "code",
   "execution_count": 56,
   "metadata": {},
   "outputs": [
    {
     "name": "stdout",
     "output_type": "stream",
     "text": [
      "The Percentage Accuracy is 100.000000%\n"
     ]
    }
   ],
   "source": [
    "sampleCount = len(Y_predicted)\n",
    "errorCount = sum( 1 if Y_predicted[i] != Y_test[i] else 0 for i in range(sampleCount) )\n",
    "print(\"The Percentage Accuracy is {0:%}\".format(int(sampleCount - errorCount) / sampleCount))"
   ]
  },
  {
   "cell_type": "code",
   "execution_count": null,
   "metadata": {},
   "outputs": [],
   "source": []
  }
 ],
 "metadata": {
  "anaconda-cloud": {},
  "kernelspec": {
   "display_name": "Python 3",
   "language": "python",
   "name": "python3"
  },
  "language_info": {
   "codemirror_mode": {
    "name": "ipython",
    "version": 3
   },
   "file_extension": ".py",
   "mimetype": "text/x-python",
   "name": "python",
   "nbconvert_exporter": "python",
   "pygments_lexer": "ipython3",
   "version": "3.6.5"
  }
 },
 "nbformat": 4,
 "nbformat_minor": 2
}
