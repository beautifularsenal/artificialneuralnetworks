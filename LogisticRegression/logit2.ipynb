{
 "cells": [
  {
   "cell_type": "code",
   "execution_count": 1,
   "metadata": {},
   "outputs": [],
   "source": [
    "import numpy as np\n",
    "\n",
    "def activation(yhat):\n",
    "    return 1 / (1 + np.exp(-yhat))\n",
    "\n",
    "def loss(y, yhat):\n",
    "    return -((1 - y) * np.log(1-yhat) + y * np.log(yhat))\n",
    "\n",
    "def z(W, X, b):\n",
    "    return (np.matmul(W, X) + b)\n",
    "\n",
    "def sigmoid(W, X, b, threshold = 0.5):\n",
    "    return 1 if (z(W, X, b) >= threshold) else 0\n",
    "\n",
    "def logisticRegression(h, alpha, X, Y):\n",
    "    # training examples\n",
    "    m = X.shape[0]\n",
    "    \n",
    "    # number of features\n",
    "    n = X.shape[1]\n",
    "    \n",
    "    # Model Parameters\n",
    "    b = 1\n",
    "    W = np.zeros(n).reshape(1, n)\n",
    "    \n",
    "    # Initialization of J and Yhat\n",
    "    J = np.zeros(h).reshape(1, h)\n",
    "    Yhat = np.zeros(m).reshape(1, m)\n",
    "    \n",
    "    for g in range(h):\n",
    "        Yhat = activation(np.matmul(W, np.transpose(X) + b))\n",
    "        J[0, g] = -1 / m * np.sum(Y * np.log(Yhat) + (1 - Y) * np.log(1 - Yhat))\n",
    "        dJdz = Yhat - Y\n",
    "        dJdb = np.sum(dJdz) / m\n",
    "        dJdw = 1 / m * np.matmul(dJdz, X)\n",
    "        b -= alpha * dJdb\n",
    "        W -= alpha * dJdw\n",
    "    \n",
    "    return (b, W, J)"
   ]
  },
  {
   "cell_type": "code",
   "execution_count": 3,
   "metadata": {},
   "outputs": [],
   "source": [
    "# Training data\n",
    "experienceData = np.loadtxt('iristrain-1.csv', delimiter = ',', skiprows = 1)\n",
    "X_train = experienceData[:, 0:4]\n",
    "Y_train = experienceData[:, 4]\n",
    "\n",
    "# training examples\n",
    "m = X_train.shape[0]\n",
    "\n",
    "# number of features\n",
    "n = X_train.shape[1]\n",
    "\n",
    "# Iterations\n",
    "h = 100000\n",
    "\n",
    "# learning  rate\n",
    "alpha = 0.05\n",
    "\n",
    "# Test data\n",
    "testData = np.loadtxt('iristest-1.csv', delimiter = ',', skiprows = 1)\n",
    "X_test = testData[:, 0:4]\n",
    "Y_test = testData[:, 4]"
   ]
  },
  {
   "cell_type": "code",
   "execution_count": 4,
   "metadata": {},
   "outputs": [
    {
     "name": "stdout",
     "output_type": "stream",
     "text": [
      "Jcost = 0.00023645227980541233\n",
      "b = 0.2331343307740746\n",
      "W =  [[-1.27077048 -3.96452605  5.9404163   2.77349473]]\n"
     ]
    }
   ],
   "source": [
    "# Calculate the learning model parameters via Logistic Regression \n",
    "(b, W, J) = logisticRegression(h, alpha, X_train, Y_train)\n",
    "print(\"Jcost = {}\".format(J[0, h - 1]))\n",
    "print(\"b = {}\".format(b))\n",
    "print(\"W = \", W)"
   ]
  },
  {
   "cell_type": "code",
   "execution_count": 6,
   "metadata": {},
   "outputs": [],
   "source": [
    "# Using the W and b values, make predictions for the test data\n",
    "Y_predicted = [ sigmoid(W[0], X_test[i], b, 0.5) for i in range(X_test.shape[0]) ]"
   ]
  },
  {
   "cell_type": "code",
   "execution_count": 7,
   "metadata": {},
   "outputs": [
    {
     "name": "stdout",
     "output_type": "stream",
     "text": [
      "The Percentage Accuracy is 100.000000%\n"
     ]
    }
   ],
   "source": [
    "# Calculate the accuracy\n",
    "sampleCount = len(Y_predicted)\n",
    "correctCount = sum( 1 if Y_predicted[i] == Y_test[i] else 0 for i in range(sampleCount) )\n",
    "print(\"The Percentage Accuracy is {0:%}\".format(int(correctCount / sampleCount)))"
   ]
  }
 ],
 "metadata": {
  "anaconda-cloud": {},
  "kernelspec": {
   "display_name": "Python 3",
   "language": "python",
   "name": "python3"
  },
  "language_info": {
   "codemirror_mode": {
    "name": "ipython",
    "version": 3
   },
   "file_extension": ".py",
   "mimetype": "text/x-python",
   "name": "python",
   "nbconvert_exporter": "python",
   "pygments_lexer": "ipython3",
   "version": "3.6.5"
  }
 },
 "nbformat": 4,
 "nbformat_minor": 2
}
