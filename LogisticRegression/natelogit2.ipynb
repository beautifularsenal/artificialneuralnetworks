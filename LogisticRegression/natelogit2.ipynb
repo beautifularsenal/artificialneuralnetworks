{
 "cells": [
  {
   "cell_type": "code",
   "execution_count": 1,
   "metadata": {},
   "outputs": [],
   "source": [
    "import numpy as np"
   ]
  },
  {
   "cell_type": "code",
   "execution_count": 2,
   "metadata": {},
   "outputs": [],
   "source": [
    "data_train = np.loadtxt('iristrain-1.csv', delimiter=',', skiprows=1)\n",
    "X_Train = data_train[:,0:4]\n",
    "Y_Train = data_train[:, 4]"
   ]
  },
  {
   "cell_type": "code",
   "execution_count": 3,
   "metadata": {},
   "outputs": [
    {
     "name": "stdout",
     "output_type": "stream",
     "text": [
      "(80, 4)\n",
      "(80,)\n"
     ]
    }
   ],
   "source": [
    "print(X_Train.shape)\n",
    "print(Y_Train.shape)"
   ]
  },
  {
   "cell_type": "code",
   "execution_count": 4,
   "metadata": {},
   "outputs": [],
   "source": [
    "# number of training examples\n",
    "m = 80\n",
    "# number of features\n",
    "n = 4"
   ]
  },
  {
   "cell_type": "code",
   "execution_count": 5,
   "metadata": {},
   "outputs": [],
   "source": [
    "#Iterations\n",
    "h = 100000\n",
    "alpha = 0.05\n",
    "\n",
    "### START CODE HERE ### (≈ 2-5 lines of code)\n",
    "b = 1\n",
    "W = np.zeros(n).reshape(1,n)\n",
    " \n",
    "# Initialization of J and Yhat\n",
    "J = np.zeros(h).reshape(1,h)\n",
    "Yhat = np.zeros(m).reshape(1,m)\n",
    " \n",
    "### END CODE HERE ###"
   ]
  },
  {
   "cell_type": "code",
   "execution_count": 6,
   "metadata": {},
   "outputs": [],
   "source": [
    "def activation(yhat):    \n",
    "### START CODE HERE ### (≈ 1-5 lines of code)\n",
    "    return 1/(1+np.exp(-yhat))\n",
    "### END CODE HERE ###\n",
    "\n",
    "# obtain out estimates for W and b\n",
    "for g in range(h):\n",
    "### START CODE HERE ### (≈ 4-10 lines of code) \n",
    "    Yhat = activation(np.matmul(W,np.transpose(X_Train)+b))\n",
    "    J[0,g] = -1/m*np.sum(Y_Train*np.log(Yhat)+(1-Y_Train)*np.log(1-Yhat))\n",
    "    dJdz = Yhat - Y_Train\n",
    "    dJdb = np.sum(dJdz)/m\n",
    "    dJdw = 1/m*np.matmul(dJdz, X_Train)\n",
    "    b = b - (alpha*dJdb)\n",
    "    W = W - (alpha*dJdw)\n",
    "### END CODE HERE ###"
   ]
  },
  {
   "cell_type": "code",
   "execution_count": 7,
   "metadata": {},
   "outputs": [],
   "source": [
    "data_test = np.loadtxt('iristest-1.csv', delimiter=',', skiprows=1)\n",
    "X_Test = data_test[:, 0:4]\n",
    "Y_Test = data_test[:, 4]"
   ]
  },
  {
   "cell_type": "code",
   "execution_count": 8,
   "metadata": {},
   "outputs": [
    {
     "name": "stdout",
     "output_type": "stream",
     "text": [
      "Y_Val: [0, 0, 0, 0, 0, 0, 0, 0, 0, 0, 1, 1, 1, 1, 1, 1, 1, 1, 1, 1]\n",
      "Y_Test: [0. 0. 0. 0. 0. 0. 0. 0. 0. 0. 1. 1. 1. 1. 1. 1. 1. 1. 1. 1.]\n"
     ]
    }
   ],
   "source": [
    "Y_val = []\n",
    "for i in range(20):\n",
    "    res = W[0,0]*X_Test[i,0]+W[0,1]*X_Test[i,1]+W[0,2]*X_Test[i,2]+W[0,3]*X_Test[i,3]\n",
    "    result = activation(res+b)\n",
    "    if (result > 0.5):\n",
    "        Y_val.append(1)\n",
    "    else:\n",
    "        Y_val.append(0)\n",
    "print(\"Y_Val:\", Y_val)\n",
    "print(\"Y_Test:\", Y_Test)"
   ]
  },
  {
   "cell_type": "code",
   "execution_count": 9,
   "metadata": {},
   "outputs": [
    {
     "name": "stdout",
     "output_type": "stream",
     "text": [
      "The Percentage Accuracy is  100.0 %\n"
     ]
    }
   ],
   "source": [
    "errors = 0\n",
    "for i in range(20):\n",
    "    if (Y_val[i] != Y_Test[i]):\n",
    "        errors +=1\n",
    "        \n",
    "percentage_acc = (20 - errors) / 20 * 100\n",
    "print(\"The Percentage Accuracy is \", percentage_acc, \"%\")"
   ]
  },
  {
   "cell_type": "code",
   "execution_count": null,
   "metadata": {},
   "outputs": [],
   "source": []
  },
  {
   "cell_type": "code",
   "execution_count": null,
   "metadata": {},
   "outputs": [],
   "source": []
  }
 ],
 "metadata": {
  "kernelspec": {
   "display_name": "Python 3",
   "language": "python",
   "name": "python3"
  },
  "language_info": {
   "codemirror_mode": {
    "name": "ipython",
    "version": 3
   },
   "file_extension": ".py",
   "mimetype": "text/x-python",
   "name": "python",
   "nbconvert_exporter": "python",
   "pygments_lexer": "ipython3",
   "version": "3.5.5"
  }
 },
 "nbformat": 4,
 "nbformat_minor": 2
}
